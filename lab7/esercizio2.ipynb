{
 "cells": [
  {
   "cell_type": "code",
   "execution_count": 218,
   "metadata": {},
   "outputs": [],
   "source": [
    "import torch\n",
    "import torch.nn as nn\n",
    "import torch.optim as optim\n",
    "from torch.utils.data import DataLoader\n",
    "from torchinfo import summary\n",
    "import matplotlib.pyplot as plt\n",
    "import numpy as np\n",
    "\n",
    "import random"
   ]
  },
  {
   "cell_type": "code",
   "execution_count": 219,
   "metadata": {},
   "outputs": [],
   "source": [
    "device = torch.device(\"mps\" if torch.backends.mps.is_available() else \"cpu\")"
   ]
  },
  {
   "cell_type": "code",
   "execution_count": 220,
   "metadata": {},
   "outputs": [],
   "source": [
    "# ==============================\n",
    "# Preparing the dataset\n",
    "# =============================="
   ]
  },
  {
   "cell_type": "code",
   "execution_count": 221,
   "metadata": {},
   "outputs": [],
   "source": [
    "#generating data\n",
    "data_1 = np.array([random.choice(range(-999, 1000)) for  _ in range(10000)])\n",
    "data_2 = np.array([random.choice(range(-999, 1000)) for  _ in range(10000)])\n",
    "X = np.hstack([data_1.reshape(-1,1), data_2.reshape(-1,1)])\n",
    "sum_signs = np.sign(data_1 + data_2)\n",
    "\n",
    "Y = np.zeros((X.shape[0], 3))\n",
    "\n",
    "for i in range(sum_signs.size):\n",
    "    if sum_signs[i] == -1:\n",
    "        Y[i] = np.array([1,0,0])\n",
    "    if sum_signs[i] == 0:\n",
    "        Y[i] = np.array([0,1,0])\n",
    "    if sum_signs[i] == 1:\n",
    "        Y[i] = np.array([0,0,1])"
   ]
  },
  {
   "cell_type": "code",
   "execution_count": 222,
   "metadata": {},
   "outputs": [
    {
     "data": {
      "text/plain": [
       "array([[1., 0., 0.],\n",
       "       [1., 0., 0.],\n",
       "       [1., 0., 0.],\n",
       "       ...,\n",
       "       [0., 0., 1.],\n",
       "       [1., 0., 0.],\n",
       "       [1., 0., 0.]])"
      ]
     },
     "execution_count": 222,
     "metadata": {},
     "output_type": "execute_result"
    }
   ],
   "source": [
    "Y"
   ]
  },
  {
   "cell_type": "code",
   "execution_count": 223,
   "metadata": {},
   "outputs": [],
   "source": [
    "class Dataset(torch.utils.data.Dataset):\n",
    "    def __init__(self, X, Y):\n",
    "        self.x = torch.tensor(X,dtype=torch.float32)\n",
    "        self.y = torch.tensor(Y,dtype=torch.float32)\n",
    "        self.len = self.x.shape[0]\n",
    "\n",
    "    def __len__(self):\n",
    "        return self.len\n",
    "\n",
    "    def __getitem__(self, idx):\n",
    "        return self.x[idx], self.y[idx]"
   ]
  },
  {
   "cell_type": "code",
   "execution_count": 224,
   "metadata": {},
   "outputs": [],
   "source": [
    "train_dataset = Dataset(X[:8000,:], Y[:8000])\n",
    "test_dataset = Dataset(X[8000:,:], Y[8000:])"
   ]
  },
  {
   "cell_type": "code",
   "execution_count": 225,
   "metadata": {},
   "outputs": [],
   "source": [
    "train_loader = DataLoader(train_dataset, batch_size=64, shuffle=False)\n",
    "test_loader  = DataLoader(test_dataset,  batch_size=64, shuffle=False)"
   ]
  },
  {
   "cell_type": "code",
   "execution_count": 226,
   "metadata": {},
   "outputs": [],
   "source": [
    "# ==============================\n",
    "# Defining the dense NN\n",
    "# =============================="
   ]
  },
  {
   "cell_type": "code",
   "execution_count": 227,
   "metadata": {},
   "outputs": [],
   "source": [
    "class DenseNN(nn.Module):\n",
    "    def __init__(self):\n",
    "        super(DenseNN, self).__init__()\n",
    "        self.fc1 = nn.Linear(2, 64)\n",
    "        self.fc2 = nn.Linear(64, 64)\n",
    "        self.fc3 = nn.Linear(64, 3)\n",
    "\n",
    "    def forward(self, x):\n",
    "        x = torch.relu(self.fc1(x))\n",
    "        x = torch.relu(self.fc2(x))\n",
    "        x = self.fc3(x)\n",
    "        return x"
   ]
  },
  {
   "cell_type": "code",
   "execution_count": 228,
   "metadata": {},
   "outputs": [
    {
     "data": {
      "text/plain": [
       "==========================================================================================\n",
       "Layer (type:depth-idx)                   Output Shape              Param #\n",
       "==========================================================================================\n",
       "DenseNN                                  [1, 3]                    --\n",
       "├─Linear: 1-1                            [1, 64]                   192\n",
       "├─Linear: 1-2                            [1, 64]                   4,160\n",
       "├─Linear: 1-3                            [1, 3]                    195\n",
       "==========================================================================================\n",
       "Total params: 4,547\n",
       "Trainable params: 4,547\n",
       "Non-trainable params: 0\n",
       "Total mult-adds (Units.MEGABYTES): 0.00\n",
       "==========================================================================================\n",
       "Input size (MB): 0.00\n",
       "Forward/backward pass size (MB): 0.00\n",
       "Params size (MB): 0.02\n",
       "Estimated Total Size (MB): 0.02\n",
       "=========================================================================================="
      ]
     },
     "execution_count": 228,
     "metadata": {},
     "output_type": "execute_result"
    }
   ],
   "source": [
    "model = DenseNN().to(device)\n",
    "criterion = nn.CrossEntropyLoss()\n",
    "optimizer = optim.Adam(model.parameters(), lr=0.001)\n",
    "summary(model, input_size=(1, 2), device = device)"
   ]
  },
  {
   "cell_type": "code",
   "execution_count": 229,
   "metadata": {},
   "outputs": [
    {
     "name": "stdout",
     "output_type": "stream",
     "text": [
      "Epoch 1/100, Loss: 0.7266\n",
      "Epoch 2/100, Loss: 0.1214\n",
      "Epoch 3/100, Loss: 0.1323\n",
      "Epoch 4/100, Loss: 0.1158\n",
      "Epoch 5/100, Loss: 0.0927\n",
      "Epoch 6/100, Loss: 0.1265\n",
      "Epoch 7/100, Loss: 0.1831\n",
      "Epoch 8/100, Loss: 0.0584\n",
      "Epoch 9/100, Loss: 0.0986\n",
      "Epoch 10/100, Loss: 0.0607\n",
      "Epoch 11/100, Loss: 0.0695\n",
      "Epoch 12/100, Loss: 0.0471\n",
      "Epoch 13/100, Loss: 0.0678\n",
      "Epoch 14/100, Loss: 0.0618\n",
      "Epoch 15/100, Loss: 0.0711\n",
      "Epoch 16/100, Loss: 0.0529\n",
      "Epoch 17/100, Loss: 0.0375\n",
      "Epoch 18/100, Loss: 0.0356\n",
      "Epoch 19/100, Loss: 0.0324\n",
      "Epoch 20/100, Loss: 0.0358\n",
      "Epoch 21/100, Loss: 0.0367\n",
      "Epoch 22/100, Loss: 0.0377\n",
      "Epoch 23/100, Loss: 0.0425\n",
      "Epoch 24/100, Loss: 0.0272\n",
      "Epoch 25/100, Loss: 0.0341\n",
      "Epoch 26/100, Loss: 0.0261\n",
      "Epoch 27/100, Loss: 0.0197\n",
      "Epoch 28/100, Loss: 0.0252\n",
      "Epoch 29/100, Loss: 0.0193\n",
      "Epoch 30/100, Loss: 0.0240\n",
      "Epoch 31/100, Loss: 0.0212\n",
      "Epoch 32/100, Loss: 0.0171\n",
      "Epoch 33/100, Loss: 0.0204\n",
      "Epoch 34/100, Loss: 0.0174\n",
      "Epoch 35/100, Loss: 0.0168\n",
      "Epoch 36/100, Loss: 0.0158\n",
      "Epoch 37/100, Loss: 0.0147\n",
      "Epoch 38/100, Loss: 0.0147\n",
      "Epoch 39/100, Loss: 0.0197\n",
      "Epoch 40/100, Loss: 0.0152\n",
      "Epoch 41/100, Loss: 0.0150\n",
      "Epoch 42/100, Loss: 0.0151\n",
      "Epoch 43/100, Loss: 0.0163\n",
      "Epoch 44/100, Loss: 0.0178\n",
      "Epoch 45/100, Loss: 0.0126\n",
      "Epoch 46/100, Loss: 0.0126\n",
      "Epoch 47/100, Loss: 0.0123\n",
      "Epoch 48/100, Loss: 0.0130\n",
      "Epoch 49/100, Loss: 0.0134\n",
      "Epoch 50/100, Loss: 0.0133\n",
      "Epoch 51/100, Loss: 0.0149\n",
      "Epoch 52/100, Loss: 0.0124\n",
      "Epoch 53/100, Loss: 0.0127\n",
      "Epoch 54/100, Loss: 0.0132\n",
      "Epoch 55/100, Loss: 0.0122\n",
      "Epoch 56/100, Loss: 0.0126\n",
      "Epoch 57/100, Loss: 0.0123\n",
      "Epoch 58/100, Loss: 0.0128\n",
      "Epoch 59/100, Loss: 0.0156\n",
      "Epoch 60/100, Loss: 0.0113\n",
      "Epoch 61/100, Loss: 0.0141\n",
      "Epoch 62/100, Loss: 0.0100\n",
      "Epoch 63/100, Loss: 0.0132\n",
      "Epoch 64/100, Loss: 0.0120\n",
      "Epoch 65/100, Loss: 0.0130\n",
      "Epoch 66/100, Loss: 0.0145\n",
      "Epoch 67/100, Loss: 0.0123\n",
      "Epoch 68/100, Loss: 0.0140\n",
      "Epoch 69/100, Loss: 0.0117\n",
      "Epoch 70/100, Loss: 0.0125\n",
      "Epoch 71/100, Loss: 0.0123\n",
      "Epoch 72/100, Loss: 0.0101\n",
      "Epoch 73/100, Loss: 0.0111\n",
      "Epoch 74/100, Loss: 0.0110\n",
      "Epoch 75/100, Loss: 0.0104\n",
      "Epoch 76/100, Loss: 0.0121\n",
      "Epoch 77/100, Loss: 0.0133\n",
      "Epoch 78/100, Loss: 0.0169\n",
      "Epoch 79/100, Loss: 0.0171\n",
      "Epoch 80/100, Loss: 0.0146\n",
      "Epoch 81/100, Loss: 0.0124\n",
      "Epoch 82/100, Loss: 0.0146\n",
      "Epoch 83/100, Loss: 0.0150\n",
      "Epoch 84/100, Loss: 0.0137\n",
      "Epoch 85/100, Loss: 0.0117\n",
      "Epoch 86/100, Loss: 0.0136\n",
      "Epoch 87/100, Loss: 0.0106\n",
      "Epoch 88/100, Loss: 0.0100\n",
      "Epoch 89/100, Loss: 0.0111\n",
      "Epoch 90/100, Loss: 0.0123\n",
      "Epoch 91/100, Loss: 0.0104\n",
      "Epoch 92/100, Loss: 0.0123\n",
      "Epoch 93/100, Loss: 0.0113\n",
      "Epoch 94/100, Loss: 0.0109\n",
      "Epoch 95/100, Loss: 0.0109\n",
      "Epoch 96/100, Loss: 0.0113\n",
      "Epoch 97/100, Loss: 0.0120\n",
      "Epoch 98/100, Loss: 0.0091\n",
      "Epoch 99/100, Loss: 0.0099\n",
      "Epoch 100/100, Loss: 0.0103\n"
     ]
    }
   ],
   "source": [
    "epochs = 100\n",
    "train_losses = []\n",
    "for epoch in range(epochs):\n",
    "    model.train()\n",
    "    running_loss = 0.0\n",
    "\n",
    "    for inputs, labels in train_loader:\n",
    "        \n",
    "        inputs, labels = inputs.to(device), labels.to(device)\n",
    "        optimizer.zero_grad()\n",
    "        outputs = model(inputs)\n",
    "        loss = criterion(outputs, labels)\n",
    "        loss.backward()\n",
    "        optimizer.step()\n",
    "        running_loss += loss.item() * inputs.size(0) #inputs.size is 64\n",
    "\n",
    "    epoch_loss = running_loss / len(train_loader.dataset)\n",
    "    train_losses.append(epoch_loss)\n",
    "    print(f\"Epoch {epoch+1}/{epochs}, Loss: {epoch_loss:.4f}\")"
   ]
  },
  {
   "cell_type": "code",
   "execution_count": 230,
   "metadata": {},
   "outputs": [
    {
     "data": {
      "image/png": "[encoded data removed]",
      "text/plain": [
       "<Figure size 640x480 with 1 Axes>"
      ]
     },
     "metadata": {},
     "output_type": "display_data"
    }
   ],
   "source": [
    "plt.plot(range(1, epochs + 1), train_losses, label='Training Loss')\n",
    "plt.xlabel('Epoch')\n",
    "plt.ylabel('Loss')\n",
    "plt.title('Andamento della perdita durante il training')\n",
    "plt.legend()\n",
    "plt.savefig('relazione/immagini/training_loss2_mod.png', dpi = 300)"
   ]
  },
  {
   "cell_type": "code",
   "execution_count": 231,
   "metadata": {},
   "outputs": [
    {
     "name": "stdout",
     "output_type": "stream",
     "text": [
      "Accuracy: 99.85%\n",
      "1997 out of 2000\n"
     ]
    }
   ],
   "source": [
    "model.eval()\n",
    "correct = 0\n",
    "total = 0\n",
    "misclassified = []\n",
    "\n",
    "with torch.no_grad():\n",
    "    for inputs, labels in test_loader:\n",
    "        inputs, labels = inputs.to(device), labels.to(device)\n",
    "        outputs = model(inputs)\n",
    "        _, predicted = torch.max(outputs, 1)\n",
    "        true_class = torch.argmax(labels,axis=1)\n",
    "        total += labels.size(0)\n",
    "        correct += (predicted == true_class).sum().item()\n",
    "        \n",
    "        for i in range(inputs.size(0)):\n",
    "            if predicted[i] != true_class[i]:\n",
    "                misclassified.append((inputs[i].cpu(), predicted[i].item(), true_class[i].item()))\n",
    "        \n",
    "accuracy = 100 * correct / total\n",
    "print(f'Accuracy: {accuracy:.2f}%')\n",
    "print(f'{correct} out of {total}')"
   ]
  },
  {
   "cell_type": "code",
   "execution_count": 232,
   "metadata": {},
   "outputs": [
    {
     "data": {
      "text/plain": [
       "[(tensor([-502.,  506.]), 0, 2),\n",
       " (tensor([-803.,  810.]), 0, 2),\n",
       " (tensor([ 248., -249.]), 2, 0)]"
      ]
     },
     "execution_count": 232,
     "metadata": {},
     "output_type": "execute_result"
    }
   ],
   "source": [
    "misclassified"
   ]
  }
 ],
 "metadata": {
  "kernelspec": {
   "display_name": "Python 3",
   "language": "python",
   "name": "python3"
  },
  "language_info": {
   "codemirror_mode": {
    "name": "ipython",
    "version": 3
   },
   "file_extension": ".py",
   "mimetype": "text/x-python",
   "name": "python",
   "nbconvert_exporter": "python",
   "pygments_lexer": "ipython3",
   "version": "3.11.8"
  }
 },
 "nbformat": 4,
 "nbformat_minor": 2
}
