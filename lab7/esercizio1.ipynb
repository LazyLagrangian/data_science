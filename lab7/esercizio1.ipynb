{
 "cells": [
  {
   "cell_type": "code",
   "execution_count": 480,
   "metadata": {},
   "outputs": [],
   "source": [
    "import torch\n",
    "import torch.nn as nn\n",
    "import torch.optim as optim\n",
    "from torch.utils.data import DataLoader\n",
    "from torchinfo import summary\n",
    "import matplotlib.pyplot as plt\n",
    "import numpy as np\n",
    "\n",
    "import random"
   ]
  },
  {
   "cell_type": "code",
   "execution_count": 481,
   "metadata": {},
   "outputs": [],
   "source": [
    "device = torch.device(\"mps\" if torch.backends.mps.is_available() else \"cpu\")"
   ]
  },
  {
   "cell_type": "code",
   "execution_count": 482,
   "metadata": {},
   "outputs": [],
   "source": [
    "# ==============================\n",
    "# Preparing the dataset\n",
    "# =============================="
   ]
  },
  {
   "cell_type": "code",
   "execution_count": 483,
   "metadata": {},
   "outputs": [],
   "source": [
    "#generating data\n",
    "data_1 = np.array([random.choice(range(1000)) for _ in range(10000)])\n",
    "data_2 = np.array([random.choice(range(1000)) for _ in range(10000)])\n",
    "X = np.hstack([data_1.reshape(-1,1), data_2.reshape(-1,1)])\n",
    "Y = data_1 + data_2\n",
    "Y = Y.reshape(-1, 1) #reshaping is necessary for convergence!"
   ]
  },
  {
   "cell_type": "code",
   "execution_count": 484,
   "metadata": {},
   "outputs": [],
   "source": [
    "class Dataset(torch.utils.data.Dataset):\n",
    "    def __init__(self, X, Y):\n",
    "        self.x = torch.tensor(X,dtype=torch.float32)\n",
    "        self.y = torch.tensor(Y,dtype=torch.float32)\n",
    "        self.len = self.x.shape[0]\n",
    "\n",
    "    def __len__(self):\n",
    "        return self.len\n",
    "\n",
    "    def __getitem__(self, idx):\n",
    "        return self.x[idx], self.y[idx]"
   ]
  },
  {
   "cell_type": "code",
   "execution_count": 485,
   "metadata": {},
   "outputs": [],
   "source": [
    "train_dataset = Dataset(X[:8000,:], Y[:8000])\n",
    "test_dataset = Dataset(X[8000:,:], Y[8000:])"
   ]
  },
  {
   "cell_type": "code",
   "execution_count": 486,
   "metadata": {},
   "outputs": [],
   "source": [
    "train_loader = DataLoader(train_dataset, batch_size=32, shuffle=True)\n",
    "test_loader  = DataLoader(test_dataset,  batch_size=32, shuffle=False)"
   ]
  },
  {
   "cell_type": "code",
   "execution_count": 487,
   "metadata": {},
   "outputs": [],
   "source": [
    "# ==============================\n",
    "# Defining the dense NN\n",
    "# =============================="
   ]
  },
  {
   "cell_type": "code",
   "execution_count": 488,
   "metadata": {},
   "outputs": [],
   "source": [
    "class DenseNN(nn.Module):\n",
    "    def __init__(self):\n",
    "        super(DenseNN, self).__init__()\n",
    "        self.fc1 = nn.Linear(2, 64)\n",
    "        self.fc2 = nn.Linear(64, 64)\n",
    "        self.fc3 = nn.Linear(64, 1)\n",
    "\n",
    "    def forward(self, x):\n",
    "        x = torch.relu(self.fc1(x))\n",
    "        x = torch.relu(self.fc2(x))\n",
    "        x = self.fc3(x)\n",
    "        return x"
   ]
  },
  {
   "cell_type": "code",
   "execution_count": 489,
   "metadata": {},
   "outputs": [
    {
     "data": {
      "text/plain": [
       "==========================================================================================\n",
       "Layer (type:depth-idx)                   Output Shape              Param #\n",
       "==========================================================================================\n",
       "DenseNN                                  [1, 1]                    --\n",
       "├─Linear: 1-1                            [1, 64]                   192\n",
       "├─Linear: 1-2                            [1, 64]                   4,160\n",
       "├─Linear: 1-3                            [1, 1]                    65\n",
       "==========================================================================================\n",
       "Total params: 4,417\n",
       "Trainable params: 4,417\n",
       "Non-trainable params: 0\n",
       "Total mult-adds (Units.MEGABYTES): 0.00\n",
       "==========================================================================================\n",
       "Input size (MB): 0.00\n",
       "Forward/backward pass size (MB): 0.00\n",
       "Params size (MB): 0.02\n",
       "Estimated Total Size (MB): 0.02\n",
       "=========================================================================================="
      ]
     },
     "execution_count": 489,
     "metadata": {},
     "output_type": "execute_result"
    }
   ],
   "source": [
    "model = DenseNN().to(device)\n",
    "criterion = nn.MSELoss()\n",
    "optimizer = optim.Adam(model.parameters(), lr=0.00004)\n",
    "summary(model, input_size=(1, 2), device = device)"
   ]
  },
  {
   "cell_type": "code",
   "execution_count": 490,
   "metadata": {},
   "outputs": [
    {
     "name": "stdout",
     "output_type": "stream",
     "text": [
      "Epoch 1/100, Loss: 866600.07200\n",
      "Epoch 2/100, Loss: 375800.26687\n",
      "Epoch 3/100, Loss: 93766.14890\n",
      "Epoch 4/100, Loss: 15108.75232\n",
      "Epoch 5/100, Loss: 4670.92971\n",
      "Epoch 6/100, Loss: 2848.38178\n",
      "Epoch 7/100, Loss: 1716.29221\n",
      "Epoch 8/100, Loss: 1061.95482\n",
      "Epoch 9/100, Loss: 690.43880\n",
      "Epoch 10/100, Loss: 454.39254\n",
      "Epoch 11/100, Loss: 295.26134\n",
      "Epoch 12/100, Loss: 186.64087\n",
      "Epoch 13/100, Loss: 113.48953\n",
      "Epoch 14/100, Loss: 64.85484\n",
      "Epoch 15/100, Loss: 34.90320\n",
      "Epoch 16/100, Loss: 20.13382\n",
      "Epoch 17/100, Loss: 12.48222\n",
      "Epoch 18/100, Loss: 7.57325\n",
      "Epoch 19/100, Loss: 4.53969\n",
      "Epoch 20/100, Loss: 2.78245\n",
      "Epoch 21/100, Loss: 1.79977\n",
      "Epoch 22/100, Loss: 1.26805\n",
      "Epoch 23/100, Loss: 0.97537\n",
      "Epoch 24/100, Loss: 0.80574\n",
      "Epoch 25/100, Loss: 0.70177\n",
      "Epoch 26/100, Loss: 0.63201\n",
      "Epoch 27/100, Loss: 0.58182\n",
      "Epoch 28/100, Loss: 0.54308\n",
      "Epoch 29/100, Loss: 0.51301\n",
      "Epoch 30/100, Loss: 0.48527\n",
      "Epoch 31/100, Loss: 0.46095\n",
      "Epoch 32/100, Loss: 0.43717\n",
      "Epoch 33/100, Loss: 0.41880\n",
      "Epoch 34/100, Loss: 0.39782\n",
      "Epoch 35/100, Loss: 0.37846\n",
      "Epoch 36/100, Loss: 0.36043\n",
      "Epoch 37/100, Loss: 0.34502\n",
      "Epoch 38/100, Loss: 0.32430\n",
      "Epoch 39/100, Loss: 0.30503\n",
      "Epoch 40/100, Loss: 0.28992\n",
      "Epoch 41/100, Loss: 0.26835\n",
      "Epoch 42/100, Loss: 0.25136\n",
      "Epoch 43/100, Loss: 0.23272\n",
      "Epoch 44/100, Loss: 0.21752\n",
      "Epoch 45/100, Loss: 0.20261\n",
      "Epoch 46/100, Loss: 0.18763\n",
      "Epoch 47/100, Loss: 0.17508\n",
      "Epoch 48/100, Loss: 0.15637\n",
      "Epoch 49/100, Loss: 0.14120\n",
      "Epoch 50/100, Loss: 0.13042\n",
      "Epoch 51/100, Loss: 0.11746\n",
      "Epoch 52/100, Loss: 0.11164\n",
      "Epoch 53/100, Loss: 0.10122\n",
      "Epoch 54/100, Loss: 0.09408\n",
      "Epoch 55/100, Loss: 0.08369\n",
      "Epoch 56/100, Loss: 0.07560\n",
      "Epoch 57/100, Loss: 0.06513\n",
      "Epoch 58/100, Loss: 0.05829\n",
      "Epoch 59/100, Loss: 0.05500\n",
      "Epoch 60/100, Loss: 0.05051\n",
      "Epoch 61/100, Loss: 0.04343\n",
      "Epoch 62/100, Loss: 0.04024\n",
      "Epoch 63/100, Loss: 0.03893\n",
      "Epoch 64/100, Loss: 0.03678\n",
      "Epoch 65/100, Loss: 0.03253\n",
      "Epoch 66/100, Loss: 0.03685\n",
      "Epoch 67/100, Loss: 0.02815\n",
      "Epoch 68/100, Loss: 0.03041\n",
      "Epoch 69/100, Loss: 0.02712\n",
      "Epoch 70/100, Loss: 0.02837\n",
      "Epoch 71/100, Loss: 0.02503\n",
      "Epoch 72/100, Loss: 0.02175\n",
      "Epoch 73/100, Loss: 0.01878\n",
      "Epoch 74/100, Loss: 0.02482\n",
      "Epoch 75/100, Loss: 0.02739\n",
      "Epoch 76/100, Loss: 0.02199\n",
      "Epoch 77/100, Loss: 0.02114\n",
      "Epoch 78/100, Loss: 0.02012\n",
      "Epoch 79/100, Loss: 0.02053\n",
      "Epoch 80/100, Loss: 0.03155\n",
      "Epoch 81/100, Loss: 0.01717\n",
      "Epoch 82/100, Loss: 0.01339\n",
      "Epoch 83/100, Loss: 0.01938\n",
      "Epoch 84/100, Loss: 0.01509\n",
      "Epoch 85/100, Loss: 0.02200\n",
      "Epoch 86/100, Loss: 0.01234\n",
      "Epoch 87/100, Loss: 0.01560\n",
      "Epoch 88/100, Loss: 0.01232\n",
      "Epoch 89/100, Loss: 0.01066\n",
      "Epoch 90/100, Loss: 0.01617\n",
      "Epoch 91/100, Loss: 0.01507\n",
      "Epoch 92/100, Loss: 0.01095\n",
      "Epoch 93/100, Loss: 0.01021\n",
      "Epoch 94/100, Loss: 0.01070\n",
      "Epoch 95/100, Loss: 0.01587\n",
      "Epoch 96/100, Loss: 0.01408\n",
      "Epoch 97/100, Loss: 0.01084\n",
      "Epoch 98/100, Loss: 0.02277\n",
      "Epoch 99/100, Loss: 0.01076\n",
      "Epoch 100/100, Loss: 0.01077\n"
     ]
    }
   ],
   "source": [
    "epochs = 100\n",
    "train_losses = []\n",
    "for epoch in range(epochs):\n",
    "    model.train()\n",
    "    running_loss = 0.0\n",
    "\n",
    "    for inputs, labels in train_loader:\n",
    "        \n",
    "        inputs, labels = inputs.to(device), labels.to(device)\n",
    "        optimizer.zero_grad()\n",
    "        outputs = model(inputs)\n",
    "        loss = criterion(outputs, labels)\n",
    "        loss.backward()\n",
    "        optimizer.step()\n",
    "        running_loss += loss.item() * inputs.size(0)\n",
    "\n",
    "    epoch_loss = running_loss / len(train_loader.dataset)\n",
    "    train_losses.append(epoch_loss)\n",
    "    print(f\"Epoch {epoch+1}/{epochs}, Loss: {epoch_loss:.5f}\")"
   ]
  },
  {
   "cell_type": "code",
   "execution_count": 510,
   "metadata": {},
   "outputs": [
    {
     "data": {
      "image/png": "[encoded data removed]",
      "text/plain": [
       "<Figure size 640x480 with 1 Axes>"
      ]
     },
     "metadata": {},
     "output_type": "display_data"
    }
   ],
   "source": [
    "plt.plot(range(1, epochs + 1), train_losses, label='Training Loss')\n",
    "plt.xlabel('Epoch')\n",
    "plt.ylabel('Loss')\n",
    "plt.title('Andamento della perdita durante il training')\n",
    "plt.legend()\n",
    "plt.savefig('relazione/immagini/training_loss.png', dpi = 300)"
   ]
  },
  {
   "cell_type": "code",
   "execution_count": 492,
   "metadata": {},
   "outputs": [
    {
     "name": "stdout",
     "output_type": "stream",
     "text": [
      "Accuracy sul test set: 100.00%\n",
      "2000 out of 2000\n",
      "loss totale: 34.40687417984009\n"
     ]
    }
   ],
   "source": [
    "model.eval()\n",
    "correct = 0\n",
    "total = 0\n",
    "tolerance = 0.5\n",
    "errors = []\n",
    "total_loss = 0\n",
    "\n",
    "with torch.no_grad():\n",
    "    for inputs, labels in test_loader:\n",
    "        inputs, labels = inputs.to(device), labels.to(device)\n",
    "        outputs = model(inputs)\n",
    "        total += labels.size(0)\n",
    "        \n",
    "        predicted = outputs.cpu().numpy()\n",
    "        expected = labels.cpu().numpy()\n",
    "        \n",
    "        #calculating training loss\n",
    "        loss = criterion(outputs, labels)\n",
    "        total_loss += loss.item() * inputs.size(0)\n",
    "        \n",
    "                \n",
    "        for i in range(inputs.size(0)):\n",
    "            if np.abs(predicted[i] - expected[i])  <= tolerance:\n",
    "                correct += 1\n",
    "            else:\n",
    "                 errors.append([predicted[i],expected[i]])\n",
    "                \n",
    "        \n",
    "accuracy = 100 * correct / total\n",
    "print(f'Accuracy sul test set: {accuracy:.2f}%')\n",
    "print(f'{correct} out of {total}')\n",
    "print(f'loss totale: {total_loss}')"
   ]
  },
  {
   "cell_type": "code",
   "execution_count": 493,
   "metadata": {},
   "outputs": [
    {
     "data": {
      "text/plain": [
       "[]"
      ]
     },
     "execution_count": 493,
     "metadata": {},
     "output_type": "execute_result"
    }
   ],
   "source": [
    "errors"
   ]
  },
  {
   "cell_type": "markdown",
   "metadata": {},
   "source": [
    "punto **(f)**"
   ]
  },
  {
   "cell_type": "code",
   "execution_count": 494,
   "metadata": {},
   "outputs": [
    {
     "name": "stdout",
     "output_type": "stream",
     "text": [
      "tensor([[  11.9912],\n",
      "        [ 299.9858],\n",
      "        [ 599.9171],\n",
      "        [1997.7350]], device='mps:0')\n",
      "tensor([[  12.],\n",
      "        [ 300.],\n",
      "        [ 600.],\n",
      "        [1998.]], device='mps:0')\n",
      "Accuracy sul test set: 100.00%\n",
      "4 out of 4\n"
     ]
    }
   ],
   "source": [
    "\n",
    "new_inputs = np.array([[5, 7], [100, 200], [400, 200],\n",
    "[999, 999]])\n",
    "new_lables = np.array([[12], [300], [600], [1998]])\n",
    "new_test_loader = DataLoader(Dataset(new_inputs, new_lables),  batch_size=128, shuffle=False)\n",
    "\n",
    "model.eval()\n",
    "correct = 0\n",
    "total = 0\n",
    "tolerance = 0.5\n",
    "errors = []\n",
    "\n",
    "with torch.no_grad():\n",
    "    for inputs, labels in new_test_loader:\n",
    "        inputs, labels = inputs.to(device), labels.to(device)\n",
    "        outputs = model(inputs)\n",
    "        total += labels.size(0)\n",
    "        \n",
    "        print(outputs)\n",
    "        print(labels)\n",
    "        \n",
    "        for i in range(inputs.size(0)):\n",
    "            if torch.abs(outputs[i][0] - labels.view(-1, 1)[i])  <= tolerance:\n",
    "                correct += 1\n",
    "            else:\n",
    "                 errors.append([outputs[i][0],labels.view(-1, 1)[i]])\n",
    "                \n",
    "        \n",
    "accuracy = 100 * correct / total\n",
    "print(f'Accuracy sul test set: {accuracy:.2f}%')\n",
    "print(f'{correct} out of {total}')"
   ]
  }
 ],
 "metadata": {
  "kernelspec": {
   "display_name": "Python 3",
   "language": "python",
   "name": "python3"
  },
  "language_info": {
   "codemirror_mode": {
    "name": "ipython",
    "version": 3
   },
   "file_extension": ".py",
   "mimetype": "text/x-python",
   "name": "python",
   "nbconvert_exporter": "python",
   "pygments_lexer": "ipython3",
   "version": "3.11.8"
  }
 },
 "nbformat": 4,
 "nbformat_minor": 2
}
